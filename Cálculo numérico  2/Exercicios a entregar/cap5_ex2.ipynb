{
  "nbformat": 4,
  "nbformat_minor": 0,
  "metadata": {
    "colab": {
      "provenance": []
    },
    "kernelspec": {
      "name": "python3",
      "display_name": "Python 3"
    },
    "language_info": {
      "name": "python"
    }
  },
  "cells": [
    {
      "cell_type": "markdown",
      "source": [
        "\n",
        "Capítulo 5 - exercício 2<br>\n",
        "Aluno: Eric Monteiro dos Reis<br>\n",
        "Disciplina: Calculo Numérico\n"
      ],
      "metadata": {
        "id": "SlNiUQZceYoZ"
      }
    },
    {
      "cell_type": "code",
      "execution_count": 1,
      "metadata": {
        "colab": {
          "base_uri": "https://localhost:8080/"
        },
        "id": "W8qawxVkPI0f",
        "outputId": "24720098-ef98-478c-e658-994e5dfb25cb"
      },
      "outputs": [
        {
          "output_type": "stream",
          "name": "stdout",
          "text": [
            "A =\n",
            " [[  6  -3  -3   0   0]\n",
            " [  0   9  -3  -6   0]\n",
            " [  0   0  24 -12 -12]\n",
            " [  0   0   0  24 -12]\n",
            " [  0   0   0   0  36]]\n",
            "b =\n",
            " [ 0 12 12 84 36]\n",
            "-----------------------------------------------\n",
            "                 System solution                  \n",
            "-----------------------------------------------\n",
            "[4. 5. 3. 4. 1.]\n",
            "Where: \n",
            "\t x[0] = 4.0 \n",
            "\n",
            "\t x[1] = 5.0 \n",
            "\n",
            "\t x[2] = 3.0 \n",
            "\n",
            "\t x[3] = 4.0 \n",
            "\n",
            "\t x[4] = 1.0 \n",
            "\n"
          ]
        }
      ],
      "source": [
        "from numpy import array, zeros\n",
        "\n",
        "\n",
        "def gauss_elimination(A: array, b: array) -> None:\n",
        "    \"\"\"\n",
        "        Performs the Gauss Elimination following two main steps:\n",
        "        1 - Progressive elimination - The equations are handled to suppress one of the variables\n",
        "                                      of the equations(scaling).\n",
        "        2 - Regressive substitution - The last equation is solved directly and the result is\n",
        "                                      regressively substituted on the equations before to determine\n",
        "                                      the other variables.\n",
        "\n",
        "    Args:\n",
        "        A (array): A matrix representing the system's equations\n",
        "        b (array): A matrix representing the system's equation results\n",
        "    \"\"\"\n",
        "\n",
        "    n = len(b)\n",
        "    x = zeros(n, float)\n",
        "\n",
        "    # Progressive elimination step\n",
        "    for k in range(n - 1):\n",
        "        for i in range(k + 1, n):\n",
        "            if A[i, k] == 0:\n",
        "                continue\n",
        "            fator = A[k, k] / A[i, k]\n",
        "            for j in range(k, n):\n",
        "                A[i, j] = A[k, j] - A[i, j] * fator\n",
        "            b[i] = b[k] - b[i] * fator\n",
        "    print(f'A =\\n {A}')\n",
        "    print(f'b =\\n {b}')\n",
        "    # Regressive substitution step\n",
        "    x[n - 1] = b[n - 1] / A[n - 1, n - 1]\n",
        "    for i in range(n - 2, -1, -1):\n",
        "        sum_ax = 0\n",
        "        for j in range(i + 1, n):\n",
        "            sum_ax += A[i, j] * x[j]\n",
        "            x[i] = (b[i] - sum_ax) / A[i, i]\n",
        "    f = 'System solution'\n",
        "    print('-' * (len(f) + 32))\n",
        "    print(f'{f:^50}')\n",
        "    print('-' * (len(f) + 32))\n",
        "    print(x)\n",
        "    print('Where: ')\n",
        "    for c in range(0, len(x)):\n",
        "        print(f'\\t x[{c}] = {x[c]} \\n')\n",
        "\n",
        "\n",
        "# Applying the method for the given exercise\n",
        "\n",
        "A = array(\n",
        "    [[6, -3, -3, 0, 0], [-3, 6, 0, -3, 0], [-3, 0, 6, -1, -2], [0, -3, -1, 5, 0], [0, 0, -2, 0, 3]]\n",
        ")\n",
        "b = array([0, 6, 0, 2, -3])\n",
        "x = gauss_elimination(A, b)\n",
        "\n",
        "# For this specific exercise and \"A\" and \"b\" matrixes, the result is all the values of x, which are\n",
        "# x[0] = 4.0, x[1] = 5.0, x[2] = 3.0, x[3] = 4.0 and x[4] = 1.0\n"
      ]
    },
    {
      "cell_type": "code",
      "source": [],
      "metadata": {
        "id": "LQ8J-brdPTBT"
      },
      "execution_count": null,
      "outputs": []
    }
  ]
}