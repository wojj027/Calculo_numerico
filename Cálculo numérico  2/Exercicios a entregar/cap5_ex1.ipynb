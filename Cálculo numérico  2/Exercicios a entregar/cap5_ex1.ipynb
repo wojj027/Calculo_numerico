{
  "nbformat": 4,
  "nbformat_minor": 0,
  "metadata": {
    "colab": {
      "provenance": []
    },
    "kernelspec": {
      "name": "python3",
      "display_name": "Python 3"
    },
    "language_info": {
      "name": "python"
    }
  },
  "cells": [
    {
      "cell_type": "markdown",
      "source": [
        "\n",
        "Capítulo 5 - exercício 1<br>\n",
        "Aluno: Eric Monteiro dos Reis<br>\n",
        "Disciplina: Calculo Numérico\n"
      ],
      "metadata": {
        "id": "MtiQ8q9MeH3p"
      }
    },
    {
      "cell_type": "code",
      "execution_count": null,
      "metadata": {
        "id": "K1J7iILXGrqO"
      },
      "outputs": [],
      "source": [
        "from numpy import array, zeros\n",
        "\n",
        "\n",
        "def gauss_elimination(A: array, b: array) -> None:\n",
        "    \"\"\"\n",
        "        Performs the Gauss Elimination following two main steps:\n",
        "        1 - Progressive elimination - The equations are handled to suppress one of the variables\n",
        "                                      of the equations(scaling).\n",
        "        2 - Regressive substitution - The last equation is solved directly and the result is\n",
        "                                      regressively substituted on the equations before to determine\n",
        "                                      the other variables.\n",
        "\n",
        "    Args:\n",
        "        A (array): A matrix representing the system's equations\n",
        "        b (array): A matrix representing the system's equation results\n",
        "    \"\"\"\n",
        "\n",
        "    n = len(b)\n",
        "    x = zeros(n, float)\n",
        "\n",
        "    # Progressive elimination step\n",
        "    for k in range(n - 1):\n",
        "        for i in range(k + 1, n):\n",
        "            if A[i, k] == 0:\n",
        "                continue\n",
        "            fator = A[k, k] / A[i, k]\n",
        "            for j in range(k, n):\n",
        "                A[i, j] = A[k, j] - A[i, j] * fator\n",
        "            b[i] = b[k] - b[i] * fator\n",
        "    print(f'A =\\n {A}')\n",
        "    print(f'b =\\n {b}')\n",
        "    # Regressive substitution step\n",
        "    x[n - 1] = b[n - 1] / A[n - 1, n - 1]\n",
        "    for i in range(n - 2, -1, -1):\n",
        "        sum_ax = 0\n",
        "        for j in range(i + 1, n):\n",
        "            sum_ax += A[i, j] * x[j]\n",
        "            x[i] = (b[i] - sum_ax) / A[i, i]\n",
        "    f = 'System solution'\n",
        "    print('-' * (len(f) + 32))\n",
        "    print(f'{f:^50}')\n",
        "    print('-' * (len(f) + 32))\n",
        "    print(x)\n",
        "    print('Where: ')\n",
        "    for c in range(0, len(x)):\n",
        "        print(f'\\t x[{c}] = {x[c]} \\n')\n",
        "\n",
        "\n",
        "# Applying the method for the given exercise\n",
        "\n",
        "A = array([[20, 10], [10, 20]])\n",
        "b = array([100, 100])\n",
        "\n",
        "x = gauss_elimination(A, b)\n",
        "\n",
        "# For this specific exercise and \"A\" and \"b\" matrixes, the result is the sum of x[0] = 3.333333333333333\n",
        "# and x[1] = 3.3333333333333335, where these values represent the currents I1 and I2, and on the given\n",
        "# circuits the currents are adding up, so the result is 6.67A\n"
      ]
    },
    {
      "cell_type": "code",
      "source": [],
      "metadata": {
        "id": "ESh0B3AENssR"
      },
      "execution_count": null,
      "outputs": []
    }
  ]
}