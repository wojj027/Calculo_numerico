{
  "nbformat": 4,
  "nbformat_minor": 0,
  "metadata": {
    "colab": {
      "provenance": []
    },
    "kernelspec": {
      "name": "python3",
      "display_name": "Python 3"
    },
    "language_info": {
      "name": "python"
    }
  },
  "cells": [
    {
      "cell_type": "markdown",
      "source": [
        "Capítulo 4 - exercício 2<br>\n",
        "Aluno: Eric Monteiro dos Reis<br>\n",
        "Disciplina: Calculo Numérico\n",
        "\n",
        "\n",
        "\n"
      ],
      "metadata": {
        "id": "hpIJUItyGiQt"
      }
    },
    {
      "cell_type": "code",
      "execution_count": 1,
      "metadata": {
        "colab": {
          "base_uri": "https://localhost:8080/"
        },
        "id": "7qqdeYZi9Ekw",
        "outputId": "2e224b9e-e8e0-4946-f772-2588b702c86b"
      },
      "outputs": [
        {
          "output_type": "stream",
          "name": "stdout",
          "text": [
            "2.5\n",
            "3.75\n",
            "3.125\n",
            "3.4375\n",
            "3.59375\n",
            "3.671875\n",
            "3.7109375\n",
            "3.69140625\n",
            "3.701171875\n",
            "3.7060546875\n",
            "3.70361328125\n",
            "3.702392578125\n",
            "3.7030029296875\n",
            "3.70330810546875\n",
            "3.703155517578125\n",
            "3.7032318115234375\n",
            "Root in radians is approximately 3.7032 with 5 iterations\n"
          ]
        }
      ],
      "source": [
        "import math\n",
        "from typing import Optional\n",
        "\n",
        "f = 1000  # Hertz\n",
        "L = 100 * (10 ** (-3))  # Henry\n",
        "R = 1000  # Ohms\n",
        "\n",
        "tan_theta = (2 * math.pi * f * L) / R\n",
        "theta = math.atan(tan_theta)\n",
        "\n",
        "def input_func(beta):\n",
        "    return math.sin(beta - theta) + math.sin(theta) * math.exp(-beta / theta)\n",
        "\n",
        "\n",
        "def bisection_method(f, a, b, error_tol, max_iter=16) -> Optional[dict]:\n",
        "    \"\"\"\n",
        "        Solves for an unknown root of a non-linear function, given the user inputed function, the\n",
        "        initial upper and lower boundaries of the root, the maximum error tolerance desired and the\n",
        "        number of iterations the algorithm will be perfomed.\n",
        "    Args:\n",
        "        f : The user defined function\n",
        "        a : The initial lower root boundary\n",
        "        b : The initial upper root boundary\n",
        "        error_tol : The maximum error desired by the user\n",
        "        max_iter : Maximum number of iterations the method will run for. Defaults to 16.\n",
        "\n",
        "    Returns:\n",
        "        dict: A dictionary containing the half way point found using the algorithm and the number of\n",
        "        iterations that were used to perform the calculations.\n",
        "    \"\"\"\n",
        "    if f(a) * f(b) > 0:\n",
        "        return print(\n",
        "            f\"No root was found between the interval {a} and {b} for this function\"\n",
        "        )\n",
        "\n",
        "    iter_counter = 0\n",
        "\n",
        "    error = abs(f(a) - f(b))\n",
        "\n",
        "    while error > error_tol:\n",
        "        if iter_counter > max_iter:\n",
        "            return print(f\"Maximum number of {max_iter} iterations exceeded.\")\n",
        "\n",
        "        mid_point = (a + b) / 2.0\n",
        "        print(mid_point)\n",
        "        if f(mid_point) == 0:\n",
        "            return {\"mid_point\": mid_point, \"iteration\": iter_counter}\n",
        "        elif f(a) * f(mid_point) < 0:\n",
        "            b = mid_point\n",
        "\n",
        "            iter_counter += 1\n",
        "        else:\n",
        "            a = mid_point\n",
        "\n",
        "        error = abs(f(b) - f(a))\n",
        "\n",
        "    return {\"mid_point\": mid_point, \"iteration\": iter_counter}\n",
        "\n",
        "\n",
        "if result := bisection_method(input_func, 0, 5, 0.0001, max_iter=20):\n",
        "    print(\n",
        "        f'Root in radians is approximately {result[\"mid_point\"]:.4f} with {result[\"iteration\"]} iterations'\n",
        "    )\n"
      ]
    },
    {
      "cell_type": "code",
      "source": [],
      "metadata": {
        "id": "mBNfBJvhC7WZ"
      },
      "execution_count": null,
      "outputs": []
    }
  ]
}