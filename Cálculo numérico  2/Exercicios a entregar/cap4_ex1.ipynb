{
  "nbformat": 4,
  "nbformat_minor": 0,
  "metadata": {
    "colab": {
      "provenance": []
    },
    "kernelspec": {
      "name": "python3",
      "display_name": "Python 3"
    },
    "language_info": {
      "name": "python"
    }
  },
  "cells": [
    {
      "cell_type": "markdown",
      "source": [
        "Capítulo 4 - exercício 1<br>\n",
        "Aluno: Eric Monteiro dos Reis<br>\n",
        "Disciplina: Calculo Numérico\n",
        "\n"
      ],
      "metadata": {
        "id": "r8tfoXDx6Z4h"
      }
    },
    {
      "cell_type": "code",
      "source": [
        "from math import cosh\n",
        "from typing import Optional\n",
        "\n",
        "def input_func(C, depth=500, fmax=50):\n",
        "    return C * (cosh(depth / (2 * C)) - 1) - fmax\n",
        "\n",
        "def bisection_method(f, a, b, error_tol, max_iter=16) -> Optional[dict]:\n",
        "    \"\"\"\n",
        "        Solves for an unknown root of a non-linear function, given the user inputed function, the\n",
        "        initial upper and lower boundaries of the root, the maximum error tolerance desired and the\n",
        "        number of iterations the algorithm will be perfomed.\n",
        "    Args:\n",
        "        f : The user defined function\n",
        "        a : The initial lower root boundary\n",
        "        b : The initial upper root boundary\n",
        "        error_tol : The maximum error desired by the user\n",
        "        max_iter : Maximum number of iterations the method will run for. Defaults to 16.\n",
        "\n",
        "    Returns:\n",
        "        dict: A dictionary containing the half way point found using the algorithm and the number of\n",
        "        iterations that were used to perform the calculations.\n",
        "    \"\"\"\n",
        "    if f(a) * f(b) > 0:\n",
        "        return print(\n",
        "            f\"No root was found between the interval {a} and {b} for this function\"\n",
        "        )\n",
        "\n",
        "    iter_counter = 0\n",
        "\n",
        "    error = abs(f(a) - f(b))\n",
        "\n",
        "    while error > error_tol:\n",
        "        if iter_counter > max_iter:\n",
        "            return print(f\"Maximum number of {max_iter} iterations exceeded.\")\n",
        "\n",
        "        mid_point = (a + b) / 2.0\n",
        "\n",
        "        if f(mid_point) == 0:\n",
        "            return {\"mid_point\": mid_point, \"iteration\": iter_counter}\n",
        "        elif f(a) * f(mid_point) < 0:\n",
        "            b = mid_point\n",
        "\n",
        "            iter_counter += 1\n",
        "        else:\n",
        "            a = mid_point\n",
        "\n",
        "        error = abs(f(b) - f(a))\n",
        "\n",
        "    return {\"mid_point\": mid_point, \"iteration\": iter_counter}\n",
        "\n",
        "if result := bisection_method(input_func, 500, 700, 0.0001, max_iter=20):\n",
        "    print(\n",
        "        f'Root is approximately {result[\"mid_point\"]:.4f} with {result[\"iteration\"]} iterations'\n",
        "    )"
      ],
      "metadata": {
        "colab": {
          "base_uri": "https://localhost:8080/"
        },
        "id": "rB2-WA926ZSx",
        "outputId": "04afa84c-9fac-484f-d61e-7f892dd2758b"
      },
      "execution_count": 2,
      "outputs": [
        {
          "output_type": "stream",
          "name": "stdout",
          "text": [
            "Root is approximately 633.1627 with 9 iterations\n"
          ]
        }
      ]
    },
    {
      "cell_type": "code",
      "source": [],
      "metadata": {
        "id": "IPuZwEGo7pSC"
      },
      "execution_count": null,
      "outputs": []
    }
  ]
}