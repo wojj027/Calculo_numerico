{
  "nbformat": 4,
  "nbformat_minor": 0,
  "metadata": {
    "colab": {
      "provenance": []
    },
    "kernelspec": {
      "name": "python3",
      "display_name": "Python 3"
    },
    "language_info": {
      "name": "python"
    }
  },
  "cells": [
    {
      "cell_type": "markdown",
      "source": [
        "\n",
        "Capítulo 5 - exercício 2<br>\n",
        "Aluno: Eric Monteiro dos Reis<br>\n",
        "Disciplina: Calculo Numérico\n"
      ],
      "metadata": {
        "id": "SlNiUQZceYoZ"
      }
    },
    {
      "cell_type": "code",
      "execution_count": 1,
      "metadata": {
        "id": "W8qawxVkPI0f"
      },
      "outputs": [],
      "source": [
        "from numpy import array, zeros\n",
        "\n",
        "\n",
        "def gauss_elimination(A: array, b: array) -> None:\n",
        "    \"\"\"\n",
        "        Performs the Gauss Elimination following two main steps:\n",
        "        1 - Progressive elimination - The equations are handled to suppress one of the variables\n",
        "                                      of the equations(scaling).\n",
        "        2 - Regressive substitution - The last equation is solved directly and the result is\n",
        "                                      regressively substituted on the equations before to determine\n",
        "                                      the other variables.\n",
        "\n",
        "    Args:\n",
        "        A (array): A matrix representing the system's equations\n",
        "        b (array): A matrix representing the system's equation results\n",
        "    \"\"\"\n",
        "\n",
        "    n = len(b)\n",
        "    x = zeros(n, float)\n",
        "\n",
        "    # Progressive elimination step\n",
        "    for k in range(n - 1):\n",
        "        for i in range(k + 1, n):\n",
        "            if A[i, k] == 0:\n",
        "                continue\n",
        "            fator = A[k, k] / A[i, k]\n",
        "            for j in range(k, n):\n",
        "                A[i, j] = A[k, j] - A[i, j] * fator\n",
        "            b[i] = b[k] - b[i] * fator\n",
        "    print(f'A =\\n {A}')\n",
        "    print(f'b =\\n {b}')\n",
        "    # Regressive substitution step\n",
        "    x[n - 1] = b[n - 1] / A[n - 1, n - 1]\n",
        "    for i in range(n - 2, -1, -1):\n",
        "        sum_ax = 0\n",
        "        for j in range(i + 1, n):\n",
        "            sum_ax += A[i, j] * x[j]\n",
        "            x[i] = (b[i] - sum_ax) / A[i, i]\n",
        "    f = 'System solution'\n",
        "    print('-' * (len(f) + 32))\n",
        "    print(f'{f:^50}')\n",
        "    print('-' * (len(f) + 32))\n",
        "    print(x)\n",
        "    print('Where: ')\n",
        "    for c in range(0, len(x)):\n",
        "        print(f'\\t x[{c}] = {x[c]} \\n')\n",
        "\n",
        "    return x\n",
        "\n",
        "# Applying the method for the given exercise\n",
        "\n",
        "A = array(\n",
        "    [[6, -3, -3, 0, 0], [-3, 6, 0, -3, 0], [-3, 0, 6, -1, -2], [0, -3, -1, 5, 0], [0, 0, -2, 0, 3]]\n",
        ")\n",
        "b = array([0, 6, 0, 2, -3])\n",
        "x = gauss_elimination(A, b)\n",
        "\n",
        "# For this specific exercise and \"A\" and \"b\" matrixes, the result is all the values of x, which are\n",
        "# x[0] = 4.0, x[1] = 5.0, x[2] = 3.0, x[3] = 4.0 and x[4] = 1.0\n"
      ]
    },
    {
      "cell_type": "code",
      "source": [],
      "metadata": {
        "id": "LQ8J-brdPTBT",
        "colab": {
          "base_uri": "https://localhost:8080/"
        },
        "outputId": "dbf6acb6-f157-4b83-8bcb-14e42ea7957f"
      },
      "execution_count": 2,
      "outputs": [
        {
          "output_type": "stream",
          "name": "stdout",
          "text": [
            "A =\n",
            " [[ 6 -3 -3  0  0]\n",
            " [-3  6  0 -3  0]\n",
            " [-3  0  6 -1 -2]\n",
            " [ 0 -3 -1  5  0]\n",
            " [ 0  0 -2  0  3]]\n",
            "b =\n",
            " [ 0  6  0  2 -3]\n",
            "-----------------------------------------------\n",
            "                 System solution                  \n",
            "-----------------------------------------------\n",
            "[ 3.625  6.25   1.     6.    -2.   ]\n",
            "Where: \n",
            "\t x[0] = 3.625 \n",
            "\n",
            "\t x[1] = 6.25 \n",
            "\n",
            "\t x[2] = 1.0 \n",
            "\n",
            "\t x[3] = 6.0 \n",
            "\n",
            "\t x[4] = -2.0 \n",
            "\n"
          ]
        }
      ]
    },
    {
      "cell_type": "code",
      "source": [
        "6*x[0] - 3*x[1] -3*x[2] == 0"
      ],
      "metadata": {
        "colab": {
          "base_uri": "https://localhost:8080/"
        },
        "id": "5YHdYP0GR5K8",
        "outputId": "9c3daea8-8ae4-4c88-9752-2cb926e05eee"
      },
      "execution_count": 5,
      "outputs": [
        {
          "output_type": "execute_result",
          "data": {
            "text/plain": [
              "True"
            ]
          },
          "metadata": {},
          "execution_count": 5
        }
      ]
    }
  ]
}